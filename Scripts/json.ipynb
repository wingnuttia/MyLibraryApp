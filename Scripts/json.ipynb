{
 "cells": [
  {
   "cell_type": "code",
   "execution_count": 11,
   "id": "7652979f-cd47-4247-9a10-e0eda7557f53",
   "metadata": {},
   "outputs": [
    {
     "name": "stdout",
     "output_type": "stream",
     "text": [
      "🎉 JSON updated: Spaces replaced with underscores and key renamed to coverLocation.\n",
      "✅ Updated file saved as C:\\Users\\karen\\Desktop\\Book App\\public\\BooklistFixed2.json\n"
     ]
    }
   ],
   "source": [
    "import json\n",
    "\n",
    "# Path to your original BooklistFinal.json\n",
    "input_file = r\"C:\\Users\\karen\\Desktop\\Book App\\public\\BooklistFixed.json\"\n",
    "\n",
    "# Path to save the updated file\n",
    "output_file = r\"C:\\Users\\karen\\Desktop\\Book App\\public\\BooklistFixed2.json\"\n",
    "\n",
    "# Load the JSON\n",
    "with open(input_file, 'r', encoding='utf-8') as f:\n",
    "    books = json.load(f)\n",
    "\n",
    "# Process each book\n",
    "for book in books:\n",
    "    if 'Cover Location' in book:\n",
    "        # Rename key to 'coverLocation'\n",
    "        book['coverLocation'] = book.pop('Cover Location')\n",
    "    if 'coverLocation' in book:\n",
    "        # Replace spaces with underscores in coverLocation path\n",
    "        book['coverLocation'] = book['coverLocation'].replace('__', '_')\n",
    "\n",
    "# Save to a new JSON file\n",
    "with open(output_file, 'w', encoding='utf-8') as f:\n",
    "    json.dump(books, f, ensure_ascii=False, indent=2)\n",
    "\n",
    "print(\"🎉 JSON updated: Spaces replaced with underscores and key renamed to coverLocation.\")\n",
    "print(f\"✅ Updated file saved as {output_file}\")\n"
   ]
  },
  {
   "cell_type": "code",
   "execution_count": null,
   "id": "831f2831-63cc-4167-9dbb-27e391100adb",
   "metadata": {},
   "outputs": [],
   "source": []
  }
 ],
 "metadata": {
  "kernelspec": {
   "display_name": "Python 3 (ipykernel)",
   "language": "python",
   "name": "python3"
  },
  "language_info": {
   "codemirror_mode": {
    "name": "ipython",
    "version": 3
   },
   "file_extension": ".py",
   "mimetype": "text/x-python",
   "name": "python",
   "nbconvert_exporter": "python",
   "pygments_lexer": "ipython3",
   "version": "3.12.4"
  }
 },
 "nbformat": 4,
 "nbformat_minor": 5
}
